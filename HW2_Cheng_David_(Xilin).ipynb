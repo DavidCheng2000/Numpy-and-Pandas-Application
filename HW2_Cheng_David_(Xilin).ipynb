{
  "nbformat": 4,
  "nbformat_minor": 0,
  "metadata": {
    "colab": {
      "name": "HW2_Cheng_David (Xilin).ipynb",
      "provenance": [],
      "collapsed_sections": []
    },
    "kernelspec": {
      "name": "python3",
      "display_name": "Python 3"
    }
  },
  "cells": [
    {
      "cell_type": "markdown",
      "metadata": {
        "id": "bNsIruOzI4iF"
      },
      "source": [
        "## **Homework 2**\n",
        "\n",
        "### Create a copy of the notebook to start answering the questions. Name your notebook in the format HW1_lastname_firstname.ipynb to facilitate the grading process. \n",
        "\n",
        "### Answer all the questions, test your code to ensure there are no errors and the results are as expected. Once you have answered all the questions, save the final copy, then go to File-> click on Download.ipynb. Once the local copy has been downloaded, submit your file on Blackboard under the corresponding assignment section. Also provide us a link to your notebook during submission. \n",
        "\n",
        "### **The due date of this homework is 02/12/2021 (Friday).**\n",
        "\n",
        "### Please ensure you follow all the steps mentioned in the homework.\n",
        "\n",
        "### All the questions have a sample input and output to help you understand the question.\n",
        "\n",
        "### You can submit your solutions any number of times until the deadline.\n"
      ]
    },
    {
      "cell_type": "markdown",
      "metadata": {
        "id": "U3Yz3s2uio1F"
      },
      "source": [
        "**Q1. Lets consider your data is like the below cell:**\n",
        "\n",
        "**Q1-1**: Write a program that create a dataframe from the data.\n",
        "\n",
        "**Q1-2:** Select people that are psychologist or teacher and their number of cars is greater than their family size.\n",
        "\n",
        "**Q1-3:** Select people who have at most 2 family members and at least 1 car.\n",
        "\n",
        "**Q1-4:** Write a code that get number of unique jobs in this dataset.\n",
        "\n",
        "\n",
        "\n"
      ]
    },
    {
      "cell_type": "code",
      "metadata": {
        "id": "yR8lcOtcjxXD"
      },
      "source": [
        "data = {\"name\": [\"Joseph\", \"Jacob\", \"Sam\", \"Jesee\", \"Ryan\", \"Lisa\", \"Lee\"],\n",
        "        \"job\": [\"teacher\", \"psychologist\", \"data scientist\", \"software developer\", \"psychologist\", \"psychologist\", \"teacher\"],\n",
        "        \"family_size\": [3, 2, 1, 4, 2, 3, 2],\n",
        "        \"num_cars\": [3, 1, 1, 2, 2, 4, 1]}"
      ],
      "execution_count": null,
      "outputs": []
    },
    {
      "cell_type": "code",
      "metadata": {
        "id": "Youi5qMaP34p",
        "colab": {
          "base_uri": "https://localhost:8080/"
        },
        "outputId": "3dec4723-8df6-45ac-eaf3-53fd2c5ddd5d"
      },
      "source": [
        "# Type your solution here\n",
        "# Q1-1\n",
        "import pandas as pd\n",
        "df = pd.DataFrame(data)\n",
        "# Q1-2\n",
        "print(df[((df.job == \"psychologist\") | (df.job == \"teacher\")) & (df.num_cars > df.family_size)])\n",
        "# use | instead of \"or\", use & instead of \"and\" for dataframe\n",
        "print()\n",
        "\n",
        "# Q1-3\n",
        "print(df[(df.family_size <= 2) & (df.num_cars >= 1)])\n",
        "print()\n",
        "\n",
        "# Q1-4:\n",
        "print(\"There are\", len(df['job'].unique()), \"distinct jobs.\")"
      ],
      "execution_count": null,
      "outputs": [
        {
          "output_type": "stream",
          "text": [
            "   name           job  family_size  num_cars\n",
            "5  Lisa  psychologist            3         4\n",
            "\n",
            "    name             job  family_size  num_cars\n",
            "1  Jacob    psychologist            2         1\n",
            "2    Sam  data scientist            1         1\n",
            "4   Ryan    psychologist            2         2\n",
            "6    Lee         teacher            2         1\n",
            "\n",
            "There are 4 distinct jobs.\n"
          ],
          "name": "stdout"
        }
      ]
    },
    {
      "cell_type": "markdown",
      "metadata": {
        "id": "Ow6nG8k4l91X"
      },
      "source": [
        "**Q2. Lets consider you have two series like the below cell. Compute the mean of weights of each fruit.**"
      ]
    },
    {
      "cell_type": "code",
      "metadata": {
        "id": "u-X_DoOzVLLB"
      },
      "source": [
        "import numpy as np\n",
        "fruit = pd.Series(np.random.choice(['apple', 'banana', 'carrot'], 10))\n",
        "weights = pd.Series(np.linspace(1, 10, 10))"
      ],
      "execution_count": null,
      "outputs": []
    },
    {
      "cell_type": "code",
      "metadata": {
        "id": "S419nzYnpU__",
        "colab": {
          "base_uri": "https://localhost:8080/"
        },
        "outputId": "aa05b8c0-0977-490b-e455-924d1b1c253c"
      },
      "source": [
        "# Type your solution here\n",
        "apple_list = []\n",
        "banana_list = []\n",
        "carrot_list = []\n",
        "for i in range(0, len(fruit)):\n",
        "  if fruit[i] == 'apple':\n",
        "    apple_list.append(weights[i])\n",
        "  elif fruit[i] == 'banana':\n",
        "    banana_list.append(weights[i])\n",
        "  elif fruit[i] == 'carrot':\n",
        "    carrot_list.append(weights[i])\n",
        "print(\"The mean of weights for apple is\", round(np.mean(apple_list), 2))\n",
        "print(\"The mean of weights for banana is\", round(np.mean(banana_list), 2))\n",
        "print(\"The mean of weights for carrot is\", round(np.mean(carrot_list), 2))"
      ],
      "execution_count": null,
      "outputs": [
        {
          "output_type": "stream",
          "text": [
            "The mean of weights for apple is 5.0\n",
            "The mean of weights for banana is 6.5\n",
            "The mean of weights for carrot is 5.4\n"
          ],
          "name": "stdout"
        }
      ]
    },
    {
      "cell_type": "markdown",
      "metadata": {
        "id": "g4lKaPIhtVrt"
      },
      "source": [
        "**Q3. Consider the below course_name array:**\n",
        "\n",
        "**Q3-1**: Write a NumPy program to get the indices of the sorted elements of **course_name** array.\n",
        "\n",
        "**Q3-2:** Write numpy code to check whether each element of **course_name** array starts with \"P\".\n"
      ]
    },
    {
      "cell_type": "code",
      "metadata": {
        "id": "RUP_jp2KtVrx"
      },
      "source": [
        "import numpy as np\n",
        "course_name = np.array(['Python', 'JS', 'examples', 'PHP', 'html'])"
      ],
      "execution_count": null,
      "outputs": []
    },
    {
      "cell_type": "code",
      "metadata": {
        "id": "U1i27POxv-o_",
        "colab": {
          "base_uri": "https://localhost:8080/"
        },
        "outputId": "68f262d0-d3a5-4316-8199-4f05e6d5aae8"
      },
      "source": [
        "# Type your solution here\n",
        "# Q3-1\n",
        "print(np.argsort(course_name))\n",
        "print()\n",
        "# Q3-2\n",
        "for item in course_name:\n",
        "  if np.char.startswith(item.lower(), 'p'):\n",
        "    print(item, \"starts with \\\"P\\\"\")\n",
        "  else:\n",
        "    print(item, \"doesn't starts with \\\"P\\\"\")"
      ],
      "execution_count": null,
      "outputs": [
        {
          "output_type": "stream",
          "text": [
            "[1 3 0 2 4]\n",
            "\n",
            "Python starts with \"P\"\n",
            "JS doesn't starts with \"P\"\n",
            "examples doesn't starts with \"P\"\n",
            "PHP starts with \"P\"\n",
            "html doesn't starts with \"P\"\n"
          ],
          "name": "stdout"
        }
      ]
    },
    {
      "cell_type": "markdown",
      "metadata": {
        "id": "sUFItNFOxwkz"
      },
      "source": [
        "**Q4. Consider the below student_id array:**\n",
        "\n",
        "**Q4-1:** Reverse the **student_id** array. Print both original and reversed array.\n",
        "\n",
        "**Q4-2:** Get the 3-largest values of **student_id** array."
      ]
    },
    {
      "cell_type": "code",
      "metadata": {
        "id": "Rl5qzEjFv0nw"
      },
      "source": [
        "import numpy as np\n",
        "student_id = np.array([1023, 5202, 6230, 1671, 1682, 5241, 4532])"
      ],
      "execution_count": null,
      "outputs": []
    },
    {
      "cell_type": "code",
      "metadata": {
        "id": "EetvHGrUxMCC",
        "colab": {
          "base_uri": "https://localhost:8080/"
        },
        "outputId": "30d6ea35-2141-4845-a628-13366c57395e"
      },
      "source": [
        "# Type your solution here\n",
        "# Q4-1\n",
        "print(\"Original array:\", student_id)\n",
        "print(\"Reversed array:\", student_id[::-1])\n",
        "print()\n",
        "\n",
        "# Q4-2\n",
        "print(\"Three largest values of the array: \")\n",
        "print(np.sort(student_id)[-1])\n",
        "print(np.sort(student_id)[-2])\n",
        "print(np.sort(student_id)[-3])"
      ],
      "execution_count": null,
      "outputs": [
        {
          "output_type": "stream",
          "text": [
            "Original array: [1023 5202 6230 1671 1682 5241 4532]\n",
            "Reversed array: [4532 5241 1682 1671 6230 5202 1023]\n",
            "\n",
            "Three largest values of the array: \n",
            "6230\n",
            "5241\n",
            "5202\n"
          ],
          "name": "stdout"
        }
      ]
    },
    {
      "cell_type": "markdown",
      "metadata": {
        "id": "Q4bcDBVRxHJh"
      },
      "source": [
        "# **Q5: Write a numpy program to print sum of all the multiples of 3 or 5 below 100**"
      ]
    },
    {
      "cell_type": "code",
      "metadata": {
        "id": "ZIixq1gz6OK3",
        "colab": {
          "base_uri": "https://localhost:8080/"
        },
        "outputId": "a2af6225-1877-456c-fa70-65a7d834f773"
      },
      "source": [
        "# Type your solution here\n",
        "\n",
        "# Hint: you can use arange to start off\n",
        "multiple3 = np.arange(3, 101, 3)\n",
        "multiple5 = np.arange(5, 101, 5)\n",
        "print(\"The sum of all the positive multiples of 3 or 5 below 100 is\", np.sum(multiple3) + np.sum(multiple5))"
      ],
      "execution_count": null,
      "outputs": [
        {
          "output_type": "stream",
          "text": [
            "The sum of all the positive multiples of 3 or 5 below 100 is 2733\n"
          ],
          "name": "stdout"
        }
      ]
    },
    {
      "cell_type": "markdown",
      "metadata": {
        "id": "2CWJOsP24c34"
      },
      "source": [
        "**Q6. Consider the below array.**\n",
        "\n",
        "Q6.1. Write a code to swap column 1 with column 2.\n",
        "\n",
        "Q6.2. Write a code to swap row 0 with row 1."
      ]
    },
    {
      "cell_type": "code",
      "metadata": {
        "id": "3OG6X5Eg5KSM",
        "colab": {
          "base_uri": "https://localhost:8080/"
        },
        "outputId": "530c5ffb-d084-4a09-a4af-e37f06bfb483"
      },
      "source": [
        "import numpy as np\n",
        "\n",
        "arr = np.arange(12).reshape(3,4)\n",
        "print(arr)"
      ],
      "execution_count": null,
      "outputs": [
        {
          "output_type": "stream",
          "text": [
            "[[ 0  1  2  3]\n",
            " [ 4  5  6  7]\n",
            " [ 8  9 10 11]]\n"
          ],
          "name": "stdout"
        }
      ]
    },
    {
      "cell_type": "code",
      "metadata": {
        "id": "Q-Q91DpO5YYW",
        "colab": {
          "base_uri": "https://localhost:8080/"
        },
        "outputId": "7cf6ed52-1c07-4974-d578-578a883f929c"
      },
      "source": [
        "# Type your solution here\n",
        "# Q6.1\n",
        "print(\"Swap column 1 with column 2.\")\n",
        "arr[:,[1, 2]] = arr[:, [2, 1]]\n",
        "print(arr)\n",
        "print()\n",
        "# Q6.2\n",
        "print(\"Swap row 0 with row 1.\")\n",
        "arr[[0, 1]] = arr[[1, 0]]\n",
        "print(arr)"
      ],
      "execution_count": null,
      "outputs": [
        {
          "output_type": "stream",
          "text": [
            "Swap column 1 with column 2.\n",
            "[[ 0  2  1  3]\n",
            " [ 4  6  5  7]\n",
            " [ 8 10  9 11]]\n",
            "\n",
            "Swap row 0 with row 1.\n",
            "[[ 4  6  5  7]\n",
            " [ 0  2  1  3]\n",
            " [ 8 10  9 11]]\n"
          ],
          "name": "stdout"
        }
      ]
    }
  ]
}